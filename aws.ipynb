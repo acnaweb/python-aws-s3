{
 "cells": [
  {
   "cell_type": "markdown",
   "metadata": {},
   "source": [
    "### AWS S3 - Management"
   ]
  },
  {
   "cell_type": "code",
   "execution_count": 1,
   "metadata": {},
   "outputs": [],
   "source": [
    "# AWS SDK\n",
    "# !pip install boto3"
   ]
  },
  {
   "cell_type": "code",
   "execution_count": 2,
   "metadata": {},
   "outputs": [],
   "source": [
    "import boto3\n",
    "from botocore.exceptions import ClientError\n",
    "import logging"
   ]
  },
  {
   "cell_type": "code",
   "execution_count": 3,
   "metadata": {},
   "outputs": [],
   "source": [
    "class S3Manager:\n",
    "    \n",
    "    \n",
    "    # construtor\n",
    "    def __init__(self, access_key, secret):\n",
    "        self.aws = boto3.client(\n",
    "            \"s3\",\n",
    "            aws_access_key_id=access_key,\n",
    "            aws_secret_access_key=secret\n",
    "        )\n",
    "        # other params\n",
    "        # region_name\n",
    "      \n",
    "    \n",
    "    # criar bucket\n",
    "    def create_bucket(self, bucket_name):\n",
    "        try:\n",
    "            self.aws.create_bucket(Bucket=bucket_name)\n",
    "            \n",
    "        except ClientError as e:\n",
    "            logging.error(e)\n",
    "            return False        \n",
    "        return True\n",
    "    \n",
    "    \n",
    "    # file upload\n",
    "    def upload_object(self, file_name, bucket, object_name=None):\n",
    "        if object_name is None:\n",
    "            object_name = file_name\n",
    "        try:\n",
    "            response = self.aws.upload_file(file_name, bucket, object_name)\n",
    "            \n",
    "        except ClientError as e:\n",
    "            logging.error(e)\n",
    "            return False\n",
    "    \n",
    "        return True\n",
    "    \n",
    "    \n",
    "    # list buckets\n",
    "    def list_buckets(self):\n",
    "        return self.aws.list_buckets()\n",
    "    \n",
    "    \n",
    "    # listing objects in bucket\n",
    "    def list_objects(self, bucket_name):\n",
    "        return self.aws.list_objects(Bucket=bucket_name)\n",
    "    \n",
    "    \n",
    "    # download object\n",
    "    def download_object(self, bucket, object_name, file_name):\n",
    "        try:\n",
    "            self.aws.download_file(bucket, object_name, file_name)\n",
    "        except ClientError as e:\n",
    "            logging.error(e)\n",
    "            return False\n",
    "    \n",
    "        return True         \n",
    "    "
   ]
  },
  {
   "cell_type": "code",
   "execution_count": 4,
   "metadata": {},
   "outputs": [],
   "source": [
    "s3_manager = S3Manager(access_key=\"xpto\", \n",
    "                       secret=\"abc\")"
   ]
  },
  {
   "cell_type": "code",
   "execution_count": 5,
   "metadata": {},
   "outputs": [
    {
     "data": {
      "text/plain": [
       "True"
      ]
     },
     "execution_count": 5,
     "metadata": {},
     "output_type": "execute_result"
    }
   ],
   "source": [
    "bucket_name = \"study-market-mining\"\n",
    "\n",
    "# criando bucket\n",
    "s3_manager.create_bucket(bucket_name)"
   ]
  },
  {
   "cell_type": "code",
   "execution_count": 6,
   "metadata": {},
   "outputs": [
    {
     "data": {
      "text/plain": [
       "True"
      ]
     },
     "execution_count": 6,
     "metadata": {},
     "output_type": "execute_result"
    }
   ],
   "source": [
    "# enviando imagem/arquivo/objeto\n",
    "s3_manager.upload_object(\"images/sao-paulo.png\", bucket_name, \"sao-paulo.png\")"
   ]
  },
  {
   "cell_type": "code",
   "execution_count": 7,
   "metadata": {},
   "outputs": [
    {
     "name": "stdout",
     "output_type": "stream",
     "text": [
      "study-market-mining\n"
     ]
    }
   ],
   "source": [
    "# listando buckets\n",
    "buckets = s3_manager.list_buckets()\n",
    "\n",
    "\n",
    "for bucket in buckets[\"Buckets\"]:\n",
    "    print(bucket[\"Name\"])\n"
   ]
  },
  {
   "cell_type": "code",
   "execution_count": 8,
   "metadata": {},
   "outputs": [
    {
     "name": "stdout",
     "output_type": "stream",
     "text": [
      "sao-paulo.png\n"
     ]
    }
   ],
   "source": [
    "# listando objetos de bucket\n",
    "\n",
    "buckets = s3_manager.list_objects(bucket_name)\n",
    "\n",
    "for bucket in buckets[\"Contents\"]:\n",
    "    print(bucket[\"Key\"])\n",
    "\n"
   ]
  },
  {
   "cell_type": "code",
   "execution_count": 9,
   "metadata": {},
   "outputs": [
    {
     "data": {
      "text/plain": [
       "True"
      ]
     },
     "execution_count": 9,
     "metadata": {},
     "output_type": "execute_result"
    }
   ],
   "source": [
    "# download object\n",
    "s3_manager.download_object(bucket_name, \"sao-paulo.png\", \"downloads/tricolor.png\")"
   ]
  }
 ],
 "metadata": {
  "kernelspec": {
   "display_name": "Python 3",
   "language": "python",
   "name": "python3"
  },
  "language_info": {
   "codemirror_mode": {
    "name": "ipython",
    "version": 3
   },
   "file_extension": ".py",
   "mimetype": "text/x-python",
   "name": "python",
   "nbconvert_exporter": "python",
   "pygments_lexer": "ipython3",
   "version": "3.7.9"
  }
 },
 "nbformat": 4,
 "nbformat_minor": 4
}
